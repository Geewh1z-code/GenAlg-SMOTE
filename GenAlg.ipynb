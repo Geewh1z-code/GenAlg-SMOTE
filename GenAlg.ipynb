{
 "cells": [
  {
   "cell_type": "code",
   "id": "initial_id",
   "metadata": {
    "collapsed": true,
    "ExecuteTime": {
     "end_time": "2025-05-23T08:34:49.026254Z",
     "start_time": "2025-05-23T08:34:49.022880Z"
    }
   },
   "source": [
    "import pandas as pd\n",
    "import numpy as np\n",
    "from sklearn.model_selection import train_test_split\n",
    "from sklearn.preprocessing import LabelEncoder, StandardScaler\n",
    "from sklearn.metrics import precision_score, recall_score, f1_score\n",
    "from imblearn.over_sampling import SMOTE\n",
    "import matplotlib.pyplot as plt"
   ],
   "outputs": [],
   "execution_count": 14
  },
  {
   "metadata": {
    "ExecuteTime": {
     "end_time": "2025-05-23T08:34:49.422687Z",
     "start_time": "2025-05-23T08:34:49.413988Z"
    }
   },
   "cell_type": "code",
   "source": [
    "file_path = ''\n",
    "data = pd.read_csv(file_path)\n",
    "f\"Размер исходного набора данных: {data.shape}\""
   ],
   "id": "8dfb6f9346e7c22c",
   "outputs": [
    {
     "data": {
      "text/plain": [
       "'Размер исходного набора данных: (3075, 12)'"
      ]
     },
     "execution_count": 15,
     "metadata": {},
     "output_type": "execute_result"
    }
   ],
   "execution_count": 15
  },
  {
   "metadata": {
    "ExecuteTime": {
     "end_time": "2025-05-23T08:34:49.806128Z",
     "start_time": "2025-05-23T08:34:49.801170Z"
    }
   },
   "cell_type": "code",
   "source": [
    "# Кодирование категориальных переменных\n",
    "le = LabelEncoder()\n",
    "data['Is declined'] = le.fit_transform(data['Is declined'])\n",
    "data['isForeignTransaction'] = le.fit_transform(data['isForeignTransaction'])\n",
    "data['isHighRiskCountry'] = le.fit_transform(data['isHighRiskCountry'])\n",
    "data['isFradulent'] = le.fit_transform(data['isFradulent'])"
   ],
   "id": "8ee4bd06dff331f0",
   "outputs": [],
   "execution_count": 16
  },
  {
   "metadata": {
    "ExecuteTime": {
     "end_time": "2025-05-23T08:34:50.300535Z",
     "start_time": "2025-05-23T08:34:50.294857Z"
    }
   },
   "cell_type": "code",
   "source": [
    "# Заполнение пропущенных значений в числовых столбцах медианой\n",
    "numeric_columns = ['Average Amount/transaction/day', 'Transaction_amount',\n",
    "                   'Total Number of declines/day', 'Daily_chargeback_avg_amt',\n",
    "                   '6_month_avg_chbk_amt', '6-month_chbk_freq']\n",
    "for col in numeric_columns:\n",
    "    data[col] = data[col].fillna(data[col].median())"
   ],
   "id": "95f7af970fcf468f",
   "outputs": [],
   "execution_count": 17
  },
  {
   "metadata": {
    "ExecuteTime": {
     "end_time": "2025-05-23T08:34:50.917927Z",
     "start_time": "2025-05-23T08:34:50.912133Z"
    }
   },
   "cell_type": "code",
   "source": [
    "# Нормализация числовых признаков\n",
    "scaler = StandardScaler()\n",
    "data[numeric_columns] = scaler.fit_transform(data[numeric_columns])"
   ],
   "id": "23eef64e2e0b0fa8",
   "outputs": [],
   "execution_count": 18
  },
  {
   "metadata": {
    "ExecuteTime": {
     "end_time": "2025-05-23T08:34:51.426116Z",
     "start_time": "2025-05-23T08:34:51.421214Z"
    }
   },
   "cell_type": "code",
   "source": [
    "# Проверка баланса классов\n",
    "print(\"Распределение классов в isFradulent:\")\n",
    "print(data['isFradulent'].value_counts())\n",
    "\n",
    "# Выбор признаков и целевой переменной\n",
    "features = ['Average Amount/transaction/day', 'Transaction_amount', 'Is declined',\n",
    "            'Total Number of declines/day', 'isForeignTransaction', 'isHighRiskCountry',\n",
    "            'Daily_chargeback_avg_amt', '6_month_avg_chbk_amt', '6-month_chbk_freq']\n",
    "X = data[features]\n",
    "y = data['isFradulent']"
   ],
   "id": "aa9579ea399c1636",
   "outputs": [
    {
     "name": "stdout",
     "output_type": "stream",
     "text": [
      "Распределение классов в isFradulent:\n",
      "isFradulent\n",
      "0    2627\n",
      "1     448\n",
      "Name: count, dtype: int64\n"
     ]
    }
   ],
   "execution_count": 19
  },
  {
   "metadata": {
    "ExecuteTime": {
     "end_time": "2025-05-23T08:34:52.320921Z",
     "start_time": "2025-05-23T08:34:52.313205Z"
    }
   },
   "cell_type": "code",
   "source": [
    "# Стратифицированное разделение данных\n",
    "try:\n",
    "    X_train, X_test, y_train, y_test = train_test_split(X, y, test_size=0.2, random_state=42, stratify=y)\n",
    "    X_train = X_train.reset_index(drop=True)\n",
    "    X_test = X_test.reset_index(drop=True)\n",
    "    y_train = y_train.reset_index(drop=True)\n",
    "    y_test = y_test.reset_index(drop=True)\n",
    "    print(f\"Размер обучающей выборки: {X_train.shape}, тестовой выборки: {X_test.shape}\")\n",
    "except ValueError as e:\n",
    "    print(f\"Ошибка при разделении данных: {e}\")\n",
    "    exit()"
   ],
   "id": "2528aa189350b276",
   "outputs": [
    {
     "name": "stdout",
     "output_type": "stream",
     "text": [
      "Размер обучающей выборки: (2460, 9), тестовой выборки: (615, 9)\n"
     ]
    }
   ],
   "execution_count": 20
  },
  {
   "metadata": {
    "ExecuteTime": {
     "end_time": "2025-05-23T08:34:53.058454Z",
     "start_time": "2025-05-23T08:34:53.050167Z"
    }
   },
   "cell_type": "code",
   "source": [
    "# Применение SMOTE для балансировки классов\n",
    "smote = SMOTE(random_state=42)\n",
    "X_train, y_train = smote.fit_resample(X_train, y_train)\n",
    "print(f\"Размер обучающей выборки после SMOTE: {X_train.shape}\")"
   ],
   "id": "9f40683becb1cb90",
   "outputs": [
    {
     "name": "stdout",
     "output_type": "stream",
     "text": [
      "Размер обучающей выборки после SMOTE: (4204, 9)\n"
     ]
    }
   ],
   "execution_count": 21
  },
  {
   "metadata": {
    "ExecuteTime": {
     "end_time": "2025-05-23T08:34:53.726783Z",
     "start_time": "2025-05-23T08:34:53.717736Z"
    }
   },
   "cell_type": "code",
   "source": [
    "# Реализация генетического алгоритма\n",
    "class GeneticAlgorithm:\n",
    "    def __init__(self, population_size, mutation_rate, generations, elite_size=2):\n",
    "        self.population_size = population_size\n",
    "        self.mutation_rate = mutation_rate\n",
    "        self.generations = generations\n",
    "        self.elite_size = elite_size\n",
    "        self.population = None\n",
    "        self.fitness_history = []\n",
    "\n",
    "    def initialize_population(self, n_features):\n",
    "        # Каждый индивид — набор порогов для признаков\n",
    "        self.population = np.random.uniform(-3, 3, (self.population_size, n_features))  # Пороги для нормализованных данных\n",
    "\n",
    "    def evaluate_fitness(self, X, y, individual, feature_ranges):\n",
    "        thresholds = individual  # Пороги уже в масштабе нормализованных данных\n",
    "        predictions = np.zeros(len(X))\n",
    "        for idx, (_, row) in enumerate(X.iterrows()):\n",
    "            score = 0\n",
    "            for j, feature in enumerate(features):\n",
    "                if feature in ['Is declined', 'isForeignTransaction', 'isHighRiskCountry']:\n",
    "                    if row[feature] < thresholds[j]:\n",
    "                        score += 1\n",
    "                else:\n",
    "                    if row[feature] > thresholds[j]:\n",
    "                        score += 1\n",
    "            predictions[idx] = 1 if score >= 4 else 0  # Фиксированный порог: 4 из 9 признаков\n",
    "        return f1_score(y, predictions, zero_division=0)\n",
    "\n",
    "    def select_parents(self, fitness):\n",
    "        tournament_size = 5\n",
    "        selected = []\n",
    "        for _ in range(self.population_size - self.elite_size):\n",
    "            tournament = np.random.choice(range(self.population_size), tournament_size)\n",
    "            best_idx = tournament[np.argmax([fitness[i] for i in tournament])]\n",
    "            selected.append(self.population[best_idx])\n",
    "        return np.array(selected)\n",
    "\n",
    "    def crossover(self, parents):\n",
    "        offspring = []\n",
    "        for i in range(0, len(parents), 2):\n",
    "            parent1, parent2 = parents[i], parents[i+1 if i+1 < len(parents) else 0]\n",
    "            crossover_point = np.random.randint(1, len(parent1)-1)\n",
    "            child1 = np.concatenate((parent1[:crossover_point], parent2[crossover_point:]))\n",
    "            child2 = np.concatenate((parent2[:crossover_point], parent1[crossover_point:]))\n",
    "            offspring.extend([child1, child2])\n",
    "        return np.array(offspring[:self.population_size - self.elite_size])\n",
    "\n",
    "    def mutate(self, offspring, generation):\n",
    "        current_mutation_rate = self.mutation_rate * (1 - generation / self.generations)\n",
    "        for individual in offspring:\n",
    "            for i in range(len(individual)):\n",
    "                if np.random.rand() < current_mutation_rate:\n",
    "                    individual[i] = np.random.uniform(-3, 3)  # Мутация в масштабе нормализованных данных\n",
    "        return offspring\n",
    "\n",
    "    def fit(self, X, y):\n",
    "        feature_ranges = [(-3, 3)] * len(features)  # Диапазон для нормализованных данных\n",
    "        self.initialize_population(len(features))\n",
    "\n",
    "        for generation in range(self.generations):\n",
    "            fitness = [self.evaluate_fitness(X, y, ind, feature_ranges) for ind in self.population]\n",
    "            self.fitness_history.append(max(fitness))\n",
    "\n",
    "            elite_indices = np.argsort(fitness)[-self.elite_size:]\n",
    "            elite = self.population[elite_indices].copy()\n",
    "\n",
    "            parents = self.select_parents(fitness)\n",
    "            offspring = self.crossover(parents)\n",
    "            offspring = self.mutate(offspring, generation)\n",
    "            self.population = np.vstack((elite, offspring))\n",
    "\n",
    "            print(f'Поколение {generation+1}/{self.generations}, Лучшая F1-оценка: {max(fitness):.4f}')\n",
    "\n",
    "        best_idx = np.argmax([self.evaluate_fitness(X, y, ind, feature_ranges) for ind in self.population])\n",
    "        return self.population[best_idx], feature_ranges\n",
    "\n",
    "    def predict(self, X, best_individual, feature_ranges):\n",
    "        thresholds = best_individual\n",
    "        predictions = np.zeros(len(X))\n",
    "        for idx, (_, row) in enumerate(X.iterrows()):\n",
    "            score = 0\n",
    "            for j, feature in enumerate(features):\n",
    "                if feature in ['Is declined', 'isForeignTransaction', 'isHighRiskCountry']:\n",
    "                    if row[feature] < thresholds[j]:\n",
    "                        score += 1\n",
    "                else:\n",
    "                    if row[feature] > thresholds[j]:\n",
    "                        score += 1\n",
    "            predictions[idx] = 1 if score >= 4 else 0\n",
    "        return predictions"
   ],
   "id": "2028a75a6a195119",
   "outputs": [],
   "execution_count": 22
  },
  {
   "metadata": {
    "ExecuteTime": {
     "end_time": "2025-05-23T08:46:49.375495Z",
     "start_time": "2025-05-23T08:34:54.410965Z"
    }
   },
   "cell_type": "code",
   "source": [
    "# Инициализация и запуск генетического алгоритма\n",
    "ga = GeneticAlgorithm(population_size=100, mutation_rate=0.2, generations=100, elite_size=5)\n",
    "best_individual, feature_ranges = ga.fit(X_train, y_train)\n",
    "\n",
    "# Оценка на тестовой выборке\n",
    "y_pred = ga.predict(X_test, best_individual, feature_ranges)\n",
    "precision = precision_score(y_test, y_pred, zero_division=0)\n",
    "recall = recall_score(y_test, y_pred, zero_division=0)\n",
    "f1 = f1_score(y_test, y_pred, zero_division=0)\n",
    "\n",
    "print(f'Точность на тесте: {precision:.4f}')\n",
    "print(f'Полнота на тесте: {recall:.4f}')\n",
    "print(f'F1-оценка на тесте: {f1:.4f}')"
   ],
   "id": "f2612c2ea0c7bf39",
   "outputs": [
    {
     "name": "stdout",
     "output_type": "stream",
     "text": [
      "Поколение 1/100, Лучшая F1-оценка: 0.8533\n",
      "Поколение 2/100, Лучшая F1-оценка: 0.8533\n",
      "Поколение 3/100, Лучшая F1-оценка: 0.8533\n",
      "Поколение 4/100, Лучшая F1-оценка: 0.8533\n",
      "Поколение 5/100, Лучшая F1-оценка: 0.8606\n",
      "Поколение 6/100, Лучшая F1-оценка: 0.8637\n",
      "Поколение 7/100, Лучшая F1-оценка: 0.8637\n",
      "Поколение 8/100, Лучшая F1-оценка: 0.8637\n",
      "Поколение 9/100, Лучшая F1-оценка: 0.8637\n",
      "Поколение 10/100, Лучшая F1-оценка: 0.8637\n",
      "Поколение 11/100, Лучшая F1-оценка: 0.8637\n",
      "Поколение 12/100, Лучшая F1-оценка: 0.8671\n",
      "Поколение 13/100, Лучшая F1-оценка: 0.8671\n",
      "Поколение 14/100, Лучшая F1-оценка: 0.8671\n",
      "Поколение 15/100, Лучшая F1-оценка: 0.8671\n",
      "Поколение 16/100, Лучшая F1-оценка: 0.8671\n",
      "Поколение 17/100, Лучшая F1-оценка: 0.8676\n",
      "Поколение 18/100, Лучшая F1-оценка: 0.8686\n",
      "Поколение 19/100, Лучшая F1-оценка: 0.8686\n",
      "Поколение 20/100, Лучшая F1-оценка: 0.8686\n",
      "Поколение 21/100, Лучшая F1-оценка: 0.8686\n",
      "Поколение 22/100, Лучшая F1-оценка: 0.8689\n",
      "Поколение 23/100, Лучшая F1-оценка: 0.8692\n",
      "Поколение 24/100, Лучшая F1-оценка: 0.8692\n",
      "Поколение 25/100, Лучшая F1-оценка: 0.8692\n",
      "Поколение 26/100, Лучшая F1-оценка: 0.8692\n",
      "Поколение 27/100, Лучшая F1-оценка: 0.8692\n",
      "Поколение 28/100, Лучшая F1-оценка: 0.8692\n",
      "Поколение 29/100, Лучшая F1-оценка: 0.8692\n",
      "Поколение 30/100, Лучшая F1-оценка: 0.8692\n",
      "Поколение 31/100, Лучшая F1-оценка: 0.8692\n",
      "Поколение 32/100, Лучшая F1-оценка: 0.8692\n",
      "Поколение 33/100, Лучшая F1-оценка: 0.8692\n",
      "Поколение 34/100, Лучшая F1-оценка: 0.8692\n",
      "Поколение 35/100, Лучшая F1-оценка: 0.8692\n",
      "Поколение 36/100, Лучшая F1-оценка: 0.8692\n",
      "Поколение 37/100, Лучшая F1-оценка: 0.8696\n",
      "Поколение 38/100, Лучшая F1-оценка: 0.8696\n",
      "Поколение 39/100, Лучшая F1-оценка: 0.8696\n",
      "Поколение 40/100, Лучшая F1-оценка: 0.8696\n",
      "Поколение 41/100, Лучшая F1-оценка: 0.8701\n",
      "Поколение 42/100, Лучшая F1-оценка: 0.8701\n",
      "Поколение 43/100, Лучшая F1-оценка: 0.8701\n",
      "Поколение 44/100, Лучшая F1-оценка: 0.8701\n",
      "Поколение 45/100, Лучшая F1-оценка: 0.8701\n",
      "Поколение 46/100, Лучшая F1-оценка: 0.8701\n",
      "Поколение 47/100, Лучшая F1-оценка: 0.8701\n",
      "Поколение 48/100, Лучшая F1-оценка: 0.8701\n",
      "Поколение 49/100, Лучшая F1-оценка: 0.8701\n",
      "Поколение 50/100, Лучшая F1-оценка: 0.8701\n",
      "Поколение 51/100, Лучшая F1-оценка: 0.8701\n",
      "Поколение 52/100, Лучшая F1-оценка: 0.8703\n",
      "Поколение 53/100, Лучшая F1-оценка: 0.8703\n",
      "Поколение 54/100, Лучшая F1-оценка: 0.8703\n",
      "Поколение 55/100, Лучшая F1-оценка: 0.8703\n",
      "Поколение 56/100, Лучшая F1-оценка: 0.8703\n",
      "Поколение 57/100, Лучшая F1-оценка: 0.8703\n",
      "Поколение 58/100, Лучшая F1-оценка: 0.8703\n",
      "Поколение 59/100, Лучшая F1-оценка: 0.8703\n",
      "Поколение 60/100, Лучшая F1-оценка: 0.8703\n",
      "Поколение 61/100, Лучшая F1-оценка: 0.8703\n",
      "Поколение 62/100, Лучшая F1-оценка: 0.8703\n",
      "Поколение 63/100, Лучшая F1-оценка: 0.8703\n",
      "Поколение 64/100, Лучшая F1-оценка: 0.8703\n",
      "Поколение 65/100, Лучшая F1-оценка: 0.8703\n",
      "Поколение 66/100, Лучшая F1-оценка: 0.8703\n",
      "Поколение 67/100, Лучшая F1-оценка: 0.8703\n",
      "Поколение 68/100, Лучшая F1-оценка: 0.8705\n",
      "Поколение 69/100, Лучшая F1-оценка: 0.8705\n",
      "Поколение 70/100, Лучшая F1-оценка: 0.8705\n",
      "Поколение 71/100, Лучшая F1-оценка: 0.8705\n",
      "Поколение 72/100, Лучшая F1-оценка: 0.8705\n",
      "Поколение 73/100, Лучшая F1-оценка: 0.8705\n",
      "Поколение 74/100, Лучшая F1-оценка: 0.8705\n",
      "Поколение 75/100, Лучшая F1-оценка: 0.8705\n",
      "Поколение 76/100, Лучшая F1-оценка: 0.8705\n",
      "Поколение 77/100, Лучшая F1-оценка: 0.8705\n",
      "Поколение 78/100, Лучшая F1-оценка: 0.8705\n",
      "Поколение 79/100, Лучшая F1-оценка: 0.8705\n",
      "Поколение 80/100, Лучшая F1-оценка: 0.8705\n",
      "Поколение 81/100, Лучшая F1-оценка: 0.8705\n",
      "Поколение 82/100, Лучшая F1-оценка: 0.8705\n",
      "Поколение 83/100, Лучшая F1-оценка: 0.8705\n",
      "Поколение 84/100, Лучшая F1-оценка: 0.8705\n",
      "Поколение 85/100, Лучшая F1-оценка: 0.8705\n",
      "Поколение 86/100, Лучшая F1-оценка: 0.8705\n",
      "Поколение 87/100, Лучшая F1-оценка: 0.8705\n",
      "Поколение 88/100, Лучшая F1-оценка: 0.8705\n",
      "Поколение 89/100, Лучшая F1-оценка: 0.8705\n",
      "Поколение 90/100, Лучшая F1-оценка: 0.8705\n",
      "Поколение 91/100, Лучшая F1-оценка: 0.8705\n",
      "Поколение 92/100, Лучшая F1-оценка: 0.8705\n",
      "Поколение 93/100, Лучшая F1-оценка: 0.8705\n",
      "Поколение 94/100, Лучшая F1-оценка: 0.8705\n",
      "Поколение 95/100, Лучшая F1-оценка: 0.8705\n",
      "Поколение 96/100, Лучшая F1-оценка: 0.8705\n",
      "Поколение 97/100, Лучшая F1-оценка: 0.8705\n",
      "Поколение 98/100, Лучшая F1-оценка: 0.8705\n",
      "Поколение 99/100, Лучшая F1-оценка: 0.8705\n",
      "Поколение 100/100, Лучшая F1-оценка: 0.8705\n",
      "Точность на тесте: 0.6048\n",
      "Полнота на тесте: 0.8333\n",
      "F1-оценка на тесте: 0.7009\n"
     ]
    }
   ],
   "execution_count": 23
  },
  {
   "metadata": {
    "ExecuteTime": {
     "end_time": "2025-05-23T08:46:52.292191Z",
     "start_time": "2025-05-23T08:46:52.085865Z"
    }
   },
   "cell_type": "code",
   "source": [
    "# Визуализация изменения приспособленности\n",
    "plt.plot(ga.fitness_history)\n",
    "plt.xlabel('Поколение')\n",
    "plt.ylabel('Лучшая F1-оценка')\n",
    "plt.title('Изменение приспособленности по поколениям')\n",
    "plt.savefig('fitness_over_generations.png')\n",
    "plt.show()"
   ],
   "id": "728f42cc27128af6",
   "outputs": [
    {
     "data": {
      "text/plain": [
       "<Figure size 640x480 with 1 Axes>"
      ],
      "image/png": "[encoded data removed]"
     },
     "metadata": {},
     "output_type": "display_data"
    }
   ],
   "execution_count": 24
  },
  {
   "metadata": {},
   "cell_type": "code",
   "outputs": [],
   "execution_count": null,
   "source": "",
   "id": "ef8647e7994c8a41"
  }
 ],
 "metadata": {
  "kernelspec": {
   "display_name": "Python 3",
   "language": "python",
   "name": "python3"
  },
  "language_info": {
   "codemirror_mode": {
    "name": "ipython",
    "version": 2
   },
   "file_extension": ".py",
   "mimetype": "text/x-python",
   "name": "python",
   "nbconvert_exporter": "python",
   "pygments_lexer": "ipython2",
   "version": "2.7.6"
  }
 },
 "nbformat": 4,
 "nbformat_minor": 5
}
